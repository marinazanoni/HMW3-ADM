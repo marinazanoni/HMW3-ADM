{
 "cells": [
  {
   "cell_type": "code",
   "execution_count": 1,
   "metadata": {},
   "outputs": [
    {
     "name": "stdout",
     "output_type": "stream",
     "text": [
      "Requirement already satisfied: beautifulsoup4 in /Users/giulianaprinzi/opt/anaconda3/lib/python3.8/site-packages (4.9.1)\n",
      "Requirement already satisfied: soupsieve>1.2 in /Users/giulianaprinzi/opt/anaconda3/lib/python3.8/site-packages (from beautifulsoup4) (2.0.1)\n",
      "Note: you may need to restart the kernel to use updated packages.\n"
     ]
    }
   ],
   "source": [
    "pip install beautifulsoup4"
   ]
  },
  {
   "cell_type": "code",
   "execution_count": 1,
   "metadata": {},
   "outputs": [],
   "source": [
    "import bs4\n",
    "from bs4 import BeautifulSoup\n",
    "import requests\n",
    "import time\n",
    "import os"
   ]
  },
  {
   "cell_type": "markdown",
   "metadata": {},
   "source": [
    "# 1 Data collection"
   ]
  },
  {
   "cell_type": "markdown",
   "metadata": {},
   "source": [
    "## 1.1. Get the list of master's degree courses"
   ]
  },
  {
   "cell_type": "code",
   "execution_count": 2,
   "metadata": {},
   "outputs": [],
   "source": [
    "def extract_masters(this_url):\n",
    "    result_url = requests.get(this_url)\n",
    "    result_soup = BeautifulSoup(result_url.text, 'html.parser')\n",
    "    result_links = result_soup.find_all('a', {'class': 'courseLink'})\n",
    "    result_list = []\n",
    "    for item in result_links:\n",
    "        result_list.append(item['href'])\n",
    "    return result_list"
   ]
  },
  {
   "cell_type": "code",
   "execution_count": null,
   "metadata": {},
   "outputs": [],
   "source": [
    "# Output file path\n",
    "output_file_path = 'msc_urls.txt'\n",
    "# Loop through the first 400 pages and write results to the output file\n",
    "with open(output_file_path, 'a') as output_file:\n",
    "    for page_number in range(1, 401):\n",
    "        page_url = f'https://www.findamasters.com/masters-degrees/msc-degrees/?PG={page_number}'\n",
    "        page_results = extract_masters(page_url)\n",
    "        for url in page_results:\n",
    "            output_file.write(f'{url}\\n')\n",
    "        time.sleep(1)"
   ]
  },
  {
   "cell_type": "code",
   "execution_count": 8,
   "metadata": {},
   "outputs": [
    {
     "name": "stdout",
     "output_type": "stream",
     "text": [
      "The file msc_urls.txt contains 6000 rows.\n"
     ]
    }
   ],
   "source": [
    "with open(output_file_path, 'r') as file:\n",
    "    lines = file.readlines()\n",
    "    number_of_lines = len(lines)\n",
    "\n",
    "print(f'The file {output_file_path} contains {number_of_lines} rows.')"
   ]
  },
  {
   "cell_type": "markdown",
   "metadata": {},
   "source": [
    "## 1.2. Crawl master's degree pages"
   ]
  },
  {
   "cell_type": "code",
   "execution_count": 2,
   "metadata": {},
   "outputs": [
    {
     "name": "stdout",
     "output_type": "stream",
     "text": [
      "Download complete for all pages.\n"
     ]
    }
   ],
   "source": [
    "# Function to download HTML from a URL with prefix and save it to a file\n",
    "def download_and_save_html(url, output_path):\n",
    "    full_url = 'https://www.findamasters.com/' + url\n",
    "    try:\n",
    "        response = requests.get(full_url)\n",
    "        if response.status_code == 200:\n",
    "            with open(output_path, 'w', encoding='utf-8') as html_file:\n",
    "                html_file.write(response.text)\n",
    "        else:\n",
    "            print(f\"Failed to download {full_url}. Status code: {response.status_code}\")\n",
    "    except Exception as e:\n",
    "        print(f\"Error downloading {full_url}: {e}\")\n",
    "\n",
    "# Function to create a directory if it doesn't exist\n",
    "def create_directory(directory_path):\n",
    "    if not os.path.exists(directory_path):\n",
    "        os.makedirs(directory_path)\n",
    "\n",
    "# Main directory for downloaded HTML files\n",
    "main_directory = 'downloaded_pages'\n",
    "create_directory(main_directory)\n",
    "\n",
    "# Iterate through the URLs and download the HTML\n",
    "with open('msc_urls.txt', 'r') as file:\n",
    "    for index, url in enumerate(file, start=1):\n",
    "        # Remove whitespaces and newline characters from the URL\n",
    "        url = url.strip()\n",
    "\n",
    "        # Generate the directory path for the current page\n",
    "        page_directory = os.path.join(main_directory, f'page_{(index - 1) // 15 + 1}')\n",
    "        create_directory(page_directory)\n",
    "\n",
    "        # Generate the output HTML file path\n",
    "        output_path = os.path.join(page_directory, f'course_{index}.html')\n",
    "\n",
    "        # Download the HTML and save it to the file\n",
    "        download_and_save_html(url, output_path)\n",
    "        time.sleep(3)\n",
    "        \n",
    "print(\"Download complete for all pages.\")"
   ]
  },
  {
   "cell_type": "code",
   "execution_count": null,
   "metadata": {},
   "outputs": [],
   "source": []
  }
 ],
 "metadata": {
  "kernelspec": {
   "display_name": "Python 3",
   "language": "python",
   "name": "python3"
  },
  "language_info": {
   "codemirror_mode": {
    "name": "ipython",
    "version": 3
   },
   "file_extension": ".py",
   "mimetype": "text/x-python",
   "name": "python",
   "nbconvert_exporter": "python",
   "pygments_lexer": "ipython3",
   "version": "3.8.3"
  }
 },
 "nbformat": 4,
 "nbformat_minor": 4
}
