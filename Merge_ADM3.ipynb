{
  "cells": [
    {
      "cell_type": "markdown",
      "metadata": {
        "id": "PTX8G7Hd3pvT"
      },
      "source": [
        "# Import libraries"
      ]
    },
    {
      "cell_type": "code",
      "execution_count": null,
      "metadata": {
        "id": "htgem3vGHBQn"
      },
      "outputs": [],
      "source": [
        "import pandas as pd\n",
        "import json\n",
        "from collections import defaultdict\n",
        "from bs4 import BeautifulSoup\n",
        "import requests\n",
        "import os\n",
        "import re\n",
        "from collections import Counter\n",
        "from functools import reduce\n",
        "from tqdm.notebook import tqdm\n",
        "from functools import reduce\n",
        "from sklearn.metrics.pairwise import cosine_similarity\n",
        "from tqdm import tqdm\n",
        "from sklearn.feature_extraction.text import TfidfVectorizer\n",
        "import heapq\n",
        "from itertools import product\n",
        "import nltk\n",
        "from nltk.corpus import stopwords\n",
        "from nltk.tokenize import word_tokenize\n",
        "import string\n",
        "from nltk.stem import *"
      ]
    },
    {
      "cell_type": "markdown",
      "metadata": {
        "id": "HEFCTQVP3sDC"
      },
      "source": [
        "# Import custom functions"
      ]
    },
    {
      "cell_type": "code",
      "execution_count": null,
      "metadata": {
        "id": "mUvxqEhJUlPO"
      },
      "outputs": [],
      "source": [
        "import custom_functions"
      ]
    },
    {
      "cell_type": "markdown",
      "metadata": {
        "id": "Mr7JHzNuUlPQ"
      },
      "source": [
        "# Import functions"
      ]
    },
    {
      "cell_type": "markdown",
      "metadata": {
        "id": "LUDOYTR_UlPR"
      },
      "source": [
        "#### In functions.py there's a series of functions that we have used; this choice was made to enhance readability"
      ]
    },
    {
      "cell_type": "code",
      "execution_count": null,
      "metadata": {
        "id": "ehOAu7-PUlPR"
      },
      "outputs": [],
      "source": [
        "import functions"
      ]
    },
    {
      "cell_type": "markdown",
      "metadata": {
        "id": "UOXsKFODhQtK"
      },
      "source": [
        "# 1 Data collection"
      ]
    },
    {
      "cell_type": "markdown",
      "metadata": {
        "id": "C1-6eOTuhQtP"
      },
      "source": [
        "## [1.1] Get the list of master's degree courses"
      ]
    },
    {
      "cell_type": "markdown",
      "metadata": {
        "id": "bGpxPUJMUlPW"
      },
      "source": [
        "#### We create a .txt file (msc_urls.txt) whose single line corresponds to the master's URL."
      ]
    },
    {
      "cell_type": "code",
      "execution_count": null,
      "metadata": {
        "id": "UDmjJMzthQtU"
      },
      "outputs": [],
      "source": [
        "# Output file path\n",
        "output_file_path = 'msc_urls.txt'\n",
        "# Loop through the first 400 pages and write results to the output file\n",
        "with open(output_file_path, 'a') as output_file:\n",
        "    for page_number in range(1, 401):\n",
        "        page_url = f'https://www.findamasters.com/masters-degrees/msc-degrees/?PG={page_number}'\n",
        "        page_results = functions.extract_masters(page_url)\n",
        "        for url in page_results:\n",
        "            output_file.write(f'{url}\\n')\n",
        "        time.sleep(1)"
      ]
    },
    {
      "cell_type": "markdown",
      "metadata": {
        "id": "_wMCGJC4UlPZ"
      },
      "source": [
        "#### Each page has 15 courses, so you will end up with 6000 unique master's degree URLs. Let's check it!"
      ]
    },
    {
      "cell_type": "code",
      "execution_count": null,
      "metadata": {
        "id": "YsxlGAHihQtW",
        "outputId": "21f472a7-749b-405d-c497-d77261ff447b"
      },
      "outputs": [
        {
          "name": "stdout",
          "output_type": "stream",
          "text": [
            "The file msc_urls.txt contains 6000 rows.\n"
          ]
        }
      ],
      "source": [
        "with open(output_file_path, 'r') as file:\n",
        "    lines = file.readlines()\n",
        "    number_of_lines = len(lines)\n",
        "\n",
        "print(f'The file {output_file_path} contains {number_of_lines} rows.')"
      ]
    },
    {
      "cell_type": "markdown",
      "metadata": {
        "id": "kfXhomXghQtY"
      },
      "source": [
        "## [1.2] Crawl master's degree pages"
      ]
    },
    {
      "cell_type": "code",
      "execution_count": null,
      "metadata": {
        "id": "o5tD97ZLhQta",
        "outputId": "2e813056-9233-4b90-88b3-f6ea062564e6"
      },
      "outputs": [
        {
          "name": "stdout",
          "output_type": "stream",
          "text": [
            "Download complete for all pages.\n"
          ]
        }
      ],
      "source": [
        "# Function to create a directory if it doesn't exist\n",
        "def create_directory(directory_path):\n",
        "    if not os.path.exists(directory_path):\n",
        "        os.makedirs(directory_path)\n",
        "\n",
        "# Main directory for downloaded HTML files\n",
        "main_directory = 'downloaded_pages'\n",
        "create_directory(main_directory)\n",
        "\n",
        "# Iterate through the URLs and download the HTML\n",
        "with open('msc_urls.txt', 'r') as file:\n",
        "    for index, url in enumerate(file, start=1):\n",
        "        # Remove whitespaces and newline characters from the URL\n",
        "        url = url.strip()\n",
        "\n",
        "        # Generate the directory path for the current page\n",
        "        page_directory = os.path.join(main_directory, f'page_{(index - 1) // 15 + 1}')\n",
        "        create_directory(page_directory)\n",
        "\n",
        "        # Generate the output HTML file path\n",
        "        output_path = os.path.join(page_directory, f'course_{index}.html')\n",
        "\n",
        "        # Download the HTML and save it to the file\n",
        "        custom_functions.crawler(url, output_path)\n",
        "        time.sleep(3)\n",
        "\n",
        "print(\"Download complete for all pages.\")"
      ]
    },
    {
      "cell_type": "markdown",
      "metadata": {
        "id": "qm_kvU5nUlPc"
      },
      "source": [
        "#### Now we have a folder named 'downloaded_pages' divided into 400 folders (one for each page), and each folder contains the HTML of the 15 courses present on that page."
      ]
    },
    {
      "cell_type": "markdown",
      "metadata": {
        "id": "QwTnsGgJMkZM"
      },
      "source": [
        "## [1.3] Parse downloaded pages\n"
      ]
    },
    {
      "cell_type": "markdown",
      "metadata": {
        "id": "aL29R8zoM73H"
      },
      "source": []
    },
    {
      "cell_type": "code",
      "execution_count": null,
      "metadata": {
        "colab": {
          "base_uri": "https://localhost:8080/",
          "height": 150
        },
        "id": "cuhNzjqQ9ctt",
        "outputId": "076d9470-1cb8-483e-d04c-de297d67cae7"
      },
      "outputs": [
        {
          "data": {
            "text/html": [
              "<div>\n",
              "<style scoped>\n",
              "    .dataframe tbody tr th:only-of-type {\n",
              "        vertical-align: middle;\n",
              "    }\n",
              "\n",
              "    .dataframe tbody tr th {\n",
              "        vertical-align: top;\n",
              "    }\n",
              "\n",
              "    .dataframe thead th {\n",
              "        text-align: right;\n",
              "    }\n",
              "</style>\n",
              "<table border=\"1\" class=\"dataframe\">\n",
              "  <thead>\n",
              "    <tr style=\"text-align: right;\">\n",
              "      <th></th>\n",
              "      <th>courseName</th>\n",
              "      <th>universityName</th>\n",
              "      <th>facultyName</th>\n",
              "      <th>isItFullTime</th>\n",
              "      <th>description</th>\n",
              "      <th>startDate</th>\n",
              "      <th>fees</th>\n",
              "      <th>modality</th>\n",
              "      <th>duration</th>\n",
              "      <th>city</th>\n",
              "      <th>administration</th>\n",
              "      <th>country</th>\n",
              "      <th>url</th>\n",
              "    </tr>\n",
              "  </thead>\n",
              "  <tbody>\n",
              "    <tr>\n",
              "      <th>0</th>\n",
              "      <td>3D Design for Virtual Environments - MSc</td>\n",
              "      <td>Glasgow Caledonian University</td>\n",
              "      <td>School of Engineering and Built Environment</td>\n",
              "      <td>Full time</td>\n",
              "      <td>3D visualisation and animation play a role in ...</td>\n",
              "      <td>September</td>\n",
              "      <td>Please see the university website for further ...</td>\n",
              "      <td>MSc</td>\n",
              "      <td>1 year full-time</td>\n",
              "      <td>Glasgow</td>\n",
              "      <td>On Campus</td>\n",
              "      <td>United Kingdom</td>\n",
              "      <td>https://www.findamasters.com/masters-degrees/c...</td>\n",
              "    </tr>\n",
              "  </tbody>\n",
              "</table>\n",
              "</div>"
            ],
            "text/plain": [
              "                                   courseName                 universityName  \\\n",
              "0    3D Design for Virtual Environments - MSc  Glasgow Caledonian University   \n",
              "\n",
              "                                   facultyName isItFullTime  \\\n",
              "0  School of Engineering and Built Environment    Full time   \n",
              "\n",
              "                                         description  startDate  \\\n",
              "0  3D visualisation and animation play a role in ...  September   \n",
              "\n",
              "                                                fees modality  \\\n",
              "0  Please see the university website for further ...      MSc   \n",
              "\n",
              "           duration     city administration         country  \\\n",
              "0  1 year full-time  Glasgow      On Campus  United Kingdom   \n",
              "\n",
              "                                                 url  \n",
              "0  https://www.findamasters.com/masters-degrees/c...  "
            ]
          },
          "execution_count": 8,
          "metadata": {},
          "output_type": "execute_result"
        }
      ],
      "source": [
        "custom_functions.parser('downloaded_pages/page_1/course_1.html')"
      ]
    },
    {
      "cell_type": "markdown",
      "metadata": {
        "id": "i6LU9o4ARwfK"
      },
      "source": [
        "## Applying the function to our html pages"
      ]
    },
    {
      "cell_type": "markdown",
      "source": [
        "we test our parsing functioni to a single document and the ìn collect all information with the parser thoìrough the html pages"
      ],
      "metadata": {
        "id": "U592LSJnU7xf"
      }
    },
    {
      "cell_type": "code",
      "execution_count": null,
      "metadata": {
        "colab": {
          "base_uri": "https://localhost:8080/"
        },
        "id": "7QIEapo7iRNL",
        "outputId": "e5c15a2f-0b5e-426c-c45f-2a64192c65c3"
      },
      "outputs": [
        {
          "name": "stdout",
          "output_type": "stream",
          "text": [
            "Error parsing file: /content/drive/MyDrive/HM3-ADM/HW3_ADM/downloaded_pages/page_118/course_1765.html\n",
            "Error parsing file: /content/drive/MyDrive/HM3-ADM/HW3_ADM/downloaded_pages/page_119/course_1772.html\n",
            "Error parsing file: /content/drive/MyDrive/HM3-ADM/HW3_ADM/downloaded_pages/page_128/course_1910.html\n",
            "Error parsing file: /content/drive/MyDrive/HM3-ADM/HW3_ADM/downloaded_pages/page_140/course_2086.html\n",
            "Error parsing file: /content/drive/MyDrive/HM3-ADM/HW3_ADM/downloaded_pages/page_196/course_2929.html\n",
            "Error parsing file: /content/drive/MyDrive/HM3-ADM/HW3_ADM/downloaded_pages/page_196/course_2931.html\n",
            "Error parsing file: /content/drive/MyDrive/HM3-ADM/HW3_ADM/downloaded_pages/page_215/course_3213.html\n",
            "Error parsing file: /content/drive/MyDrive/HM3-ADM/HW3_ADM/downloaded_pages/page_291/course_4357.html\n",
            "Error parsing file: /content/drive/MyDrive/HM3-ADM/HW3_ADM/downloaded_pages/page_293/course_4395.html\n",
            "Error parsing file: /content/drive/MyDrive/HM3-ADM/HW3_ADM/downloaded_pages/page_299/course_4484.html\n",
            "Error parsing file: /content/drive/MyDrive/HM3-ADM/HW3_ADM/downloaded_pages/page_307/course_4593.html\n",
            "Error parsing file: /content/drive/MyDrive/HM3-ADM/HW3_ADM/downloaded_pages/page_32/course_472.html\n",
            "Error parsing file: /content/drive/MyDrive/HM3-ADM/HW3_ADM/downloaded_pages/page_35/course_517.html\n",
            "Error parsing file: /content/drive/MyDrive/HM3-ADM/HW3_ADM/downloaded_pages/page_363/course_5438.html\n",
            "Error parsing file: /content/drive/MyDrive/HM3-ADM/HW3_ADM/downloaded_pages/page_383/course_5740.html\n",
            "Error parsing file: /content/drive/MyDrive/HM3-ADM/HW3_ADM/downloaded_pages/page_46/course_679.html\n",
            "Error parsing file: /content/drive/MyDrive/HM3-ADM/HW3_ADM/downloaded_pages/page_51/course_755.html\n",
            "Error parsing file: /content/drive/MyDrive/HM3-ADM/HW3_ADM/downloaded_pages/page_60/course_894.html\n",
            "Error parsing file: /content/drive/MyDrive/HM3-ADM/HW3_ADM/downloaded_pages/page_63/course_936.html\n",
            "Error parsing file: /content/drive/MyDrive/HM3-ADM/HW3_ADM/downloaded_pages/page_71/course_1053.html\n",
            "Error parsing file: /content/drive/MyDrive/HM3-ADM/HW3_ADM/downloaded_pages/page_94/course_1407.html\n"
          ]
        }
      ],
      "source": [
        "concatenated_df=functions.parse_html('downloaded_pages')"
      ]
    },
    {
      "cell_type": "markdown",
      "source": [
        "#### At this point, you should have all the HTML documents about the master's degree of interest, and you can start to extract specific information. The list of the information we desire for each course and their format as desiried."
      ],
      "metadata": {
        "id": "lQTYhYDhU5gb"
      }
    },
    {
      "cell_type": "code",
      "execution_count": null,
      "metadata": {
        "colab": {
          "base_uri": "https://localhost:8080/",
          "height": 590
        },
        "id": "V84ocvymig2n",
        "outputId": "734f5a7c-abf5-4361-9d8a-833e04156ded"
      },
      "outputs": [
        {
          "data": {
            "text/html": [
              "\n",
              "  <div id=\"df-a42c05a3-b728-485e-bc9e-8dd2b48da073\" class=\"colab-df-container\">\n",
              "    <div>\n",
              "<style scoped>\n",
              "    .dataframe tbody tr th:only-of-type {\n",
              "        vertical-align: middle;\n",
              "    }\n",
              "\n",
              "    .dataframe tbody tr th {\n",
              "        vertical-align: top;\n",
              "    }\n",
              "\n",
              "    .dataframe thead th {\n",
              "        text-align: right;\n",
              "    }\n",
              "</style>\n",
              "<table border=\"1\" class=\"dataframe\">\n",
              "  <thead>\n",
              "    <tr style=\"text-align: right;\">\n",
              "      <th></th>\n",
              "      <th>courseName</th>\n",
              "      <th>universityName</th>\n",
              "      <th>facultyName</th>\n",
              "      <th>isItFullTime</th>\n",
              "      <th>description</th>\n",
              "      <th>startDate</th>\n",
              "      <th>fees</th>\n",
              "      <th>modality</th>\n",
              "      <th>duration</th>\n",
              "      <th>city</th>\n",
              "      <th>administration</th>\n",
              "      <th>country</th>\n",
              "      <th>url</th>\n",
              "    </tr>\n",
              "  </thead>\n",
              "  <tbody>\n",
              "    <tr>\n",
              "      <th>0</th>\n",
              "      <td>3D Design for Virtual Environments - MSc</td>\n",
              "      <td>Glasgow Caledonian University</td>\n",
              "      <td>School of Engineering and Built Environment</td>\n",
              "      <td>Full time</td>\n",
              "      <td>3D visualisation and animation play a role in ...</td>\n",
              "      <td>September</td>\n",
              "      <td>Please see the university website for further ...</td>\n",
              "      <td>MSc</td>\n",
              "      <td>1 year full-time</td>\n",
              "      <td>Glasgow</td>\n",
              "      <td>On Campus</td>\n",
              "      <td>United Kingdom</td>\n",
              "      <td>https://www.findamasters.com/masters-degrees/c...</td>\n",
              "    </tr>\n",
              "    <tr>\n",
              "      <th>1</th>\n",
              "      <td>Air Quality Solutions - MSc</td>\n",
              "      <td>University of Leeds</td>\n",
              "      <td>Institute for Transport Studies</td>\n",
              "      <td>Full time</td>\n",
              "      <td>Up to 7 million people are estimated to die ev...</td>\n",
              "      <td>September</td>\n",
              "      <td>UK: £12,500 (Total) \\nInternational: £28,750 (...</td>\n",
              "      <td>MSc</td>\n",
              "      <td>1 year full time, 2 or 3 years part-time</td>\n",
              "      <td>Leeds</td>\n",
              "      <td>On Campus</td>\n",
              "      <td>United Kingdom</td>\n",
              "      <td>https://www.findamasters.com/masters-degrees/c...</td>\n",
              "    </tr>\n",
              "    <tr>\n",
              "      <th>2</th>\n",
              "      <td>Analytical Toxicology MSc</td>\n",
              "      <td>King’s College London</td>\n",
              "      <td>Faculty of Life Sciences &amp; Medicine</td>\n",
              "      <td>Full time</td>\n",
              "      <td>The Analytical Toxicology MSc is a unique stud...</td>\n",
              "      <td>See Course</td>\n",
              "      <td>Please see the university website for further ...</td>\n",
              "      <td>MSc</td>\n",
              "      <td>Full-time: One year</td>\n",
              "      <td>London</td>\n",
              "      <td>On Campus</td>\n",
              "      <td>United Kingdom</td>\n",
              "      <td>https://www.findamasters.com/masters-degrees/c...</td>\n",
              "    </tr>\n",
              "    <tr>\n",
              "      <th>3</th>\n",
              "      <td>Applied Computer Science and Artificial Inte...</td>\n",
              "      <td>University of Bradford</td>\n",
              "      <td>Faculty of Engineering &amp; Digital Technologies</td>\n",
              "      <td>Full time</td>\n",
              "      <td>Computer science is the foundation of many exc...</td>\n",
              "      <td>September, January</td>\n",
              "      <td>Please see the university website for further ...</td>\n",
              "      <td>MSc</td>\n",
              "      <td>1 Year Full Time / 2 Years Part Time</td>\n",
              "      <td>Bradford</td>\n",
              "      <td>On Campus</td>\n",
              "      <td>United Kingdom</td>\n",
              "      <td>https://www.findamasters.com/masters-degrees/c...</td>\n",
              "    </tr>\n",
              "    <tr>\n",
              "      <th>4</th>\n",
              "      <td>Applied Economics (Banking and Financial Mar...</td>\n",
              "      <td>University of Bath</td>\n",
              "      <td>University of Bath Online</td>\n",
              "      <td>Part time</td>\n",
              "      <td>From political uncertainty to finance and recr...</td>\n",
              "      <td>September, January</td>\n",
              "      <td>Cost per 10 credits £722* (10% alumni discount...</td>\n",
              "      <td>MSc</td>\n",
              "      <td>2 years and 6 months full time</td>\n",
              "      <td>Bath</td>\n",
              "      <td>Online</td>\n",
              "      <td>United Kingdom</td>\n",
              "      <td>https://www.findamasters.com/masters-degrees/c...</td>\n",
              "    </tr>\n",
              "  </tbody>\n",
              "</table>\n",
              "</div>\n",
              "    <div class=\"colab-df-buttons\">\n",
              "\n",
              "  <div class=\"colab-df-container\">\n",
              "    <button class=\"colab-df-convert\" onclick=\"convertToInteractive('df-a42c05a3-b728-485e-bc9e-8dd2b48da073')\"\n",
              "            title=\"Convert this dataframe to an interactive table.\"\n",
              "            style=\"display:none;\">\n",
              "\n",
              "  <svg xmlns=\"http://www.w3.org/2000/svg\" height=\"24px\" viewBox=\"0 -960 960 960\">\n",
              "    <path d=\"M120-120v-720h720v720H120Zm60-500h600v-160H180v160Zm220 220h160v-160H400v160Zm0 220h160v-160H400v160ZM180-400h160v-160H180v160Zm440 0h160v-160H620v160ZM180-180h160v-160H180v160Zm440 0h160v-160H620v160Z\"/>\n",
              "  </svg>\n",
              "    </button>\n",
              "\n",
              "  <style>\n",
              "    .colab-df-container {\n",
              "      display:flex;\n",
              "      gap: 12px;\n",
              "    }\n",
              "\n",
              "    .colab-df-convert {\n",
              "      background-color: #E8F0FE;\n",
              "      border: none;\n",
              "      border-radius: 50%;\n",
              "      cursor: pointer;\n",
              "      display: none;\n",
              "      fill: #1967D2;\n",
              "      height: 32px;\n",
              "      padding: 0 0 0 0;\n",
              "      width: 32px;\n",
              "    }\n",
              "\n",
              "    .colab-df-convert:hover {\n",
              "      background-color: #E2EBFA;\n",
              "      box-shadow: 0px 1px 2px rgba(60, 64, 67, 0.3), 0px 1px 3px 1px rgba(60, 64, 67, 0.15);\n",
              "      fill: #174EA6;\n",
              "    }\n",
              "\n",
              "    .colab-df-buttons div {\n",
              "      margin-bottom: 4px;\n",
              "    }\n",
              "\n",
              "    [theme=dark] .colab-df-convert {\n",
              "      background-color: #3B4455;\n",
              "      fill: #D2E3FC;\n",
              "    }\n",
              "\n",
              "    [theme=dark] .colab-df-convert:hover {\n",
              "      background-color: #434B5C;\n",
              "      box-shadow: 0px 1px 3px 1px rgba(0, 0, 0, 0.15);\n",
              "      filter: drop-shadow(0px 1px 2px rgba(0, 0, 0, 0.3));\n",
              "      fill: #FFFFFF;\n",
              "    }\n",
              "  </style>\n",
              "\n",
              "    <script>\n",
              "      const buttonEl =\n",
              "        document.querySelector('#df-a42c05a3-b728-485e-bc9e-8dd2b48da073 button.colab-df-convert');\n",
              "      buttonEl.style.display =\n",
              "        google.colab.kernel.accessAllowed ? 'block' : 'none';\n",
              "\n",
              "      async function convertToInteractive(key) {\n",
              "        const element = document.querySelector('#df-a42c05a3-b728-485e-bc9e-8dd2b48da073');\n",
              "        const dataTable =\n",
              "          await google.colab.kernel.invokeFunction('convertToInteractive',\n",
              "                                                    [key], {});\n",
              "        if (!dataTable) return;\n",
              "\n",
              "        const docLinkHtml = 'Like what you see? Visit the ' +\n",
              "          '<a target=\"_blank\" href=https://colab.research.google.com/notebooks/data_table.ipynb>data table notebook</a>'\n",
              "          + ' to learn more about interactive tables.';\n",
              "        element.innerHTML = '';\n",
              "        dataTable['output_type'] = 'display_data';\n",
              "        await google.colab.output.renderOutput(dataTable, element);\n",
              "        const docLink = document.createElement('div');\n",
              "        docLink.innerHTML = docLinkHtml;\n",
              "        element.appendChild(docLink);\n",
              "      }\n",
              "    </script>\n",
              "  </div>\n",
              "\n",
              "\n",
              "<div id=\"df-4ca0e7cd-fd92-4efb-97a2-d529bf02eedd\">\n",
              "  <button class=\"colab-df-quickchart\" onclick=\"quickchart('df-4ca0e7cd-fd92-4efb-97a2-d529bf02eedd')\"\n",
              "            title=\"Suggest charts\"\n",
              "            style=\"display:none;\">\n",
              "\n",
              "<svg xmlns=\"http://www.w3.org/2000/svg\" height=\"24px\"viewBox=\"0 0 24 24\"\n",
              "     width=\"24px\">\n",
              "    <g>\n",
              "        <path d=\"M19 3H5c-1.1 0-2 .9-2 2v14c0 1.1.9 2 2 2h14c1.1 0 2-.9 2-2V5c0-1.1-.9-2-2-2zM9 17H7v-7h2v7zm4 0h-2V7h2v10zm4 0h-2v-4h2v4z\"/>\n",
              "    </g>\n",
              "</svg>\n",
              "  </button>\n",
              "\n",
              "<style>\n",
              "  .colab-df-quickchart {\n",
              "      --bg-color: #E8F0FE;\n",
              "      --fill-color: #1967D2;\n",
              "      --hover-bg-color: #E2EBFA;\n",
              "      --hover-fill-color: #174EA6;\n",
              "      --disabled-fill-color: #AAA;\n",
              "      --disabled-bg-color: #DDD;\n",
              "  }\n",
              "\n",
              "  [theme=dark] .colab-df-quickchart {\n",
              "      --bg-color: #3B4455;\n",
              "      --fill-color: #D2E3FC;\n",
              "      --hover-bg-color: #434B5C;\n",
              "      --hover-fill-color: #FFFFFF;\n",
              "      --disabled-bg-color: #3B4455;\n",
              "      --disabled-fill-color: #666;\n",
              "  }\n",
              "\n",
              "  .colab-df-quickchart {\n",
              "    background-color: var(--bg-color);\n",
              "    border: none;\n",
              "    border-radius: 50%;\n",
              "    cursor: pointer;\n",
              "    display: none;\n",
              "    fill: var(--fill-color);\n",
              "    height: 32px;\n",
              "    padding: 0;\n",
              "    width: 32px;\n",
              "  }\n",
              "\n",
              "  .colab-df-quickchart:hover {\n",
              "    background-color: var(--hover-bg-color);\n",
              "    box-shadow: 0 1px 2px rgba(60, 64, 67, 0.3), 0 1px 3px 1px rgba(60, 64, 67, 0.15);\n",
              "    fill: var(--button-hover-fill-color);\n",
              "  }\n",
              "\n",
              "  .colab-df-quickchart-complete:disabled,\n",
              "  .colab-df-quickchart-complete:disabled:hover {\n",
              "    background-color: var(--disabled-bg-color);\n",
              "    fill: var(--disabled-fill-color);\n",
              "    box-shadow: none;\n",
              "  }\n",
              "\n",
              "  .colab-df-spinner {\n",
              "    border: 2px solid var(--fill-color);\n",
              "    border-color: transparent;\n",
              "    border-bottom-color: var(--fill-color);\n",
              "    animation:\n",
              "      spin 1s steps(1) infinite;\n",
              "  }\n",
              "\n",
              "  @keyframes spin {\n",
              "    0% {\n",
              "      border-color: transparent;\n",
              "      border-bottom-color: var(--fill-color);\n",
              "      border-left-color: var(--fill-color);\n",
              "    }\n",
              "    20% {\n",
              "      border-color: transparent;\n",
              "      border-left-color: var(--fill-color);\n",
              "      border-top-color: var(--fill-color);\n",
              "    }\n",
              "    30% {\n",
              "      border-color: transparent;\n",
              "      border-left-color: var(--fill-color);\n",
              "      border-top-color: var(--fill-color);\n",
              "      border-right-color: var(--fill-color);\n",
              "    }\n",
              "    40% {\n",
              "      border-color: transparent;\n",
              "      border-right-color: var(--fill-color);\n",
              "      border-top-color: var(--fill-color);\n",
              "    }\n",
              "    60% {\n",
              "      border-color: transparent;\n",
              "      border-right-color: var(--fill-color);\n",
              "    }\n",
              "    80% {\n",
              "      border-color: transparent;\n",
              "      border-right-color: var(--fill-color);\n",
              "      border-bottom-color: var(--fill-color);\n",
              "    }\n",
              "    90% {\n",
              "      border-color: transparent;\n",
              "      border-bottom-color: var(--fill-color);\n",
              "    }\n",
              "  }\n",
              "</style>\n",
              "\n",
              "  <script>\n",
              "    async function quickchart(key) {\n",
              "      const quickchartButtonEl =\n",
              "        document.querySelector('#' + key + ' button');\n",
              "      quickchartButtonEl.disabled = true;  // To prevent multiple clicks.\n",
              "      quickchartButtonEl.classList.add('colab-df-spinner');\n",
              "      try {\n",
              "        const charts = await google.colab.kernel.invokeFunction(\n",
              "            'suggestCharts', [key], {});\n",
              "      } catch (error) {\n",
              "        console.error('Error during call to suggestCharts:', error);\n",
              "      }\n",
              "      quickchartButtonEl.classList.remove('colab-df-spinner');\n",
              "      quickchartButtonEl.classList.add('colab-df-quickchart-complete');\n",
              "    }\n",
              "    (() => {\n",
              "      let quickchartButtonEl =\n",
              "        document.querySelector('#df-4ca0e7cd-fd92-4efb-97a2-d529bf02eedd button');\n",
              "      quickchartButtonEl.style.display =\n",
              "        google.colab.kernel.accessAllowed ? 'block' : 'none';\n",
              "    })();\n",
              "  </script>\n",
              "</div>\n",
              "    </div>\n",
              "  </div>\n"
            ],
            "text/plain": [
              "                                          courseName  \\\n",
              "0           3D Design for Virtual Environments - MSc   \n",
              "1                        Air Quality Solutions - MSc   \n",
              "2                          Analytical Toxicology MSc   \n",
              "3    Applied Computer Science and Artificial Inte...   \n",
              "4    Applied Economics (Banking and Financial Mar...   \n",
              "\n",
              "                  universityName  \\\n",
              "0  Glasgow Caledonian University   \n",
              "1            University of Leeds   \n",
              "2          King’s College London   \n",
              "3         University of Bradford   \n",
              "4             University of Bath   \n",
              "\n",
              "                                     facultyName isItFullTime  \\\n",
              "0    School of Engineering and Built Environment    Full time   \n",
              "1                Institute for Transport Studies    Full time   \n",
              "2            Faculty of Life Sciences & Medicine    Full time   \n",
              "3  Faculty of Engineering & Digital Technologies    Full time   \n",
              "4                      University of Bath Online    Part time   \n",
              "\n",
              "                                         description           startDate  \\\n",
              "0  3D visualisation and animation play a role in ...           September   \n",
              "1  Up to 7 million people are estimated to die ev...           September   \n",
              "2  The Analytical Toxicology MSc is a unique stud...          See Course   \n",
              "3  Computer science is the foundation of many exc...  September, January   \n",
              "4  From political uncertainty to finance and recr...  September, January   \n",
              "\n",
              "                                                fees modality  \\\n",
              "0  Please see the university website for further ...      MSc   \n",
              "1  UK: £12,500 (Total) \\nInternational: £28,750 (...      MSc   \n",
              "2  Please see the university website for further ...      MSc   \n",
              "3  Please see the university website for further ...      MSc   \n",
              "4  Cost per 10 credits £722* (10% alumni discount...      MSc   \n",
              "\n",
              "                                   duration      city administration  \\\n",
              "0                          1 year full-time   Glasgow      On Campus   \n",
              "1  1 year full time, 2 or 3 years part-time     Leeds      On Campus   \n",
              "2                       Full-time: One year    London      On Campus   \n",
              "3      1 Year Full Time / 2 Years Part Time  Bradford      On Campus   \n",
              "4            2 years and 6 months full time      Bath         Online   \n",
              "\n",
              "          country                                                url  \n",
              "0  United Kingdom  https://www.findamasters.com/masters-degrees/c...  \n",
              "1  United Kingdom  https://www.findamasters.com/masters-degrees/c...  \n",
              "2  United Kingdom  https://www.findamasters.com/masters-degrees/c...  \n",
              "3  United Kingdom  https://www.findamasters.com/masters-degrees/c...  \n",
              "4  United Kingdom  https://www.findamasters.com/masters-degrees/c...  "
            ]
          },
          "execution_count": 85,
          "metadata": {},
          "output_type": "execute_result"
        }
      ],
      "source": [
        "# Display the concatenated DataFrame\n",
        "concatenated_df.head()"
      ]
    },
    {
      "cell_type": "code",
      "execution_count": null,
      "metadata": {
        "colab": {
          "base_uri": "https://localhost:8080/"
        },
        "id": "RWjzPiAuFqQ7",
        "outputId": "d063fb8e-9edf-4cfb-8112-ce3643802bda"
      },
      "outputs": [
        {
          "data": {
            "text/plain": [
              "(5979, 13)"
            ]
          },
          "execution_count": 96,
          "metadata": {},
          "output_type": "execute_result"
        }
      ],
      "source": [
        "concatenated_df.shape"
      ]
    },
    {
      "cell_type": "code",
      "execution_count": null,
      "metadata": {
        "colab": {
          "base_uri": "https://localhost:8080/"
        },
        "id": "ckUCSmnHd3Lc",
        "outputId": "87656304-5822-499d-8457-9b35c798e28b"
      },
      "outputs": [
        {
          "name": "stdout",
          "output_type": "stream",
          "text": [
            "21 were not valid pages\n"
          ]
        }
      ],
      "source": [
        "print(6000-5979, 'were not valid pages')"
      ]
    },
    {
      "cell_type": "markdown",
      "source": [
        "are all categorical variables"
      ],
      "metadata": {
        "id": "xt7QeJuHVIi0"
      }
    },
    {
      "cell_type": "code",
      "execution_count": null,
      "metadata": {
        "colab": {
          "base_uri": "https://localhost:8080/"
        },
        "id": "IxCUg08AeBgZ",
        "outputId": "64c2a3a2-36fa-41db-f402-92d6c61cb63e"
      },
      "outputs": [
        {
          "name": "stdout",
          "output_type": "stream",
          "text": [
            "<class 'pandas.core.frame.DataFrame'>\n",
            "RangeIndex: 1 entries, 0 to 0\n",
            "Data columns (total 13 columns):\n",
            " #   Column          Non-Null Count  Dtype \n",
            "---  ------          --------------  ----- \n",
            " 0   courseName      1 non-null      object\n",
            " 1   universityName  1 non-null      object\n",
            " 2   facultyName     1 non-null      object\n",
            " 3   isItFullTime    1 non-null      object\n",
            " 4   description     1 non-null      object\n",
            " 5   startDate       1 non-null      object\n",
            " 6   fees            1 non-null      object\n",
            " 7   modality        1 non-null      object\n",
            " 8   duration        1 non-null      object\n",
            " 9   city            1 non-null      object\n",
            " 10  administration  1 non-null      object\n",
            " 11  country         1 non-null      object\n",
            " 12  url             1 non-null      object\n",
            "dtypes: object(13)\n",
            "memory usage: 232.0+ bytes\n"
          ]
        }
      ],
      "source": [
        "parsed_df.info()"
      ]
    },
    {
      "cell_type": "code",
      "execution_count": null,
      "metadata": {
        "colab": {
          "base_uri": "https://localhost:8080/"
        },
        "id": "LFxoTm2ra-Rr",
        "outputId": "c5cf381b-9d76-453a-9fbc-0a76afaf4e37"
      },
      "outputs": [
        {
          "name": "stdout",
          "output_type": "stream",
          "text": [
            ".tsv file saved at: /content/drive/MyDrive/HM3-ADM/HW3_ADM/MasterDegrees.tsv\n"
          ]
        }
      ],
      "source": [
        "# Specify the path where you want to save the .tsv file\n",
        "tsv_file_path = 'MasterDegrees.tsv'\n",
        "\n",
        "# Save the DataFrame to a .tsv file\n",
        "concatenated_df.to_csv(tsv_file_path, sep='\\t', index=False)\n",
        "\n",
        "print(f\".tsv file saved at: {tsv_file_path}\")"
      ]
    },
    {
      "cell_type": "markdown",
      "metadata": {
        "id": "qyXKH3SlTIhA"
      },
      "source": [
        "### *Saving singularly the information about each master (html page)*"
      ]
    },
    {
      "cell_type": "code",
      "execution_count": null,
      "metadata": {
        "id": "dHex-QscT6I-"
      },
      "outputs": [],
      "source": [
        "# Iterate through each DataFrame in the list\n",
        "for index, parsed_df in enumerate(parsed_dfs):\n",
        "    # Iterate through each row in the DataFrame\n",
        "    for row_index, row in parsed_df.iterrows():\n",
        "        # Replace NaN values with empty strings\n",
        "        single_row = row.fillna(' ')\n",
        "        # Specify the path where you want to save the .tsv file for the current row\n",
        "        tsv_file_path = f'Courses/course_{index}.tsv'\n",
        "        # Save the single row DataFrame to a .tsv file\n",
        "        with open(tsv_file_path, 'w') as file:\n",
        "            file.write('\\t'.join(single_row))"
      ]
    },
    {
      "cell_type": "markdown",
      "source": [
        "#[2.0]"
      ],
      "metadata": {
        "id": "jydS34NRVrCK"
      }
    },
    {
      "cell_type": "markdown",
      "metadata": {
        "id": "IG5db1Uuwx3l"
      },
      "source": [
        "## Preproccessing"
      ]
    },
    {
      "cell_type": "markdown",
      "metadata": {
        "id": "bHocNrgfisXu"
      },
      "source": [
        "Uploading the file created after parsing the information"
      ]
    },
    {
      "cell_type": "code",
      "execution_count": null,
      "metadata": {
        "colab": {
          "base_uri": "https://localhost:8080/",
          "height": 199
        },
        "id": "FCsSuFDd4pBX",
        "outputId": "11f98b31-af29-4293-a10e-5b20d5c4b750"
      },
      "outputs": [
        {
          "output_type": "error",
          "ename": "NameError",
          "evalue": "ignored",
          "traceback": [
            "\u001b[0;31m---------------------------------------------------------------------------\u001b[0m",
            "\u001b[0;31mNameError\u001b[0m                                 Traceback (most recent call last)",
            "\u001b[0;32m<ipython-input-1-37cb14b4ac74>\u001b[0m in \u001b[0;36m<cell line: 1>\u001b[0;34m()\u001b[0m\n\u001b[0;32m----> 1\u001b[0;31m \u001b[0mdf\u001b[0m \u001b[0;34m=\u001b[0m \u001b[0mpd\u001b[0m\u001b[0;34m.\u001b[0m\u001b[0mread_csv\u001b[0m\u001b[0;34m(\u001b[0m\u001b[0;34m'MasterDegrees.tsv'\u001b[0m\u001b[0;34m,\u001b[0m\u001b[0msep\u001b[0m\u001b[0;34m=\u001b[0m\u001b[0;34m'\\t'\u001b[0m\u001b[0;34m)\u001b[0m\u001b[0;34m\u001b[0m\u001b[0;34m\u001b[0m\u001b[0m\n\u001b[0m\u001b[1;32m      2\u001b[0m \u001b[0mdf\u001b[0m\u001b[0;34m.\u001b[0m\u001b[0mhead\u001b[0m\u001b[0;34m(\u001b[0m\u001b[0;34m)\u001b[0m\u001b[0;34m\u001b[0m\u001b[0;34m\u001b[0m\u001b[0m\n",
            "\u001b[0;31mNameError\u001b[0m: name 'pd' is not defined"
          ]
        }
      ],
      "source": [
        "df = pd.read_csv('MasterDegrees.tsv',sep='\\t')\n",
        "df.head()"
      ]
    },
    {
      "cell_type": "markdown",
      "metadata": {
        "id": "dzmhGNVso5FE"
      },
      "source": [
        "## [2.0.0]"
      ]
    },
    {
      "cell_type": "code",
      "execution_count": null,
      "metadata": {
        "id": "mFUqxCIe2loB",
        "scrolled": false
      },
      "outputs": [],
      "source": [
        "# Download the stopwords dataset if not already downloaded\n",
        "nltk.download('stopwords')\n",
        "nltk.download('punkt')"
      ]
    },
    {
      "cell_type": "markdown",
      "metadata": {
        "id": "R1J7nOZoT8JX"
      },
      "source": [
        "## Stemming"
      ]
    },
    {
      "cell_type": "code",
      "execution_count": null,
      "metadata": {
        "id": "pbEgi27dR58h"
      },
      "outputs": [],
      "source": [
        "# Make a copy of the original DataFrame\n",
        "processed_df = df.copy()\n",
        "\n",
        "# stemmer\n",
        "stemmer = PorterStemmer()\n",
        "\n",
        "processed_df['description'] = processed_df.description.apply(lambda row: ' '.join([stemmer.stem(word) for word in row.split(' ')]))"
      ]
    },
    {
      "cell_type": "markdown",
      "metadata": {
        "id": "jZGv-WGQh07y"
      },
      "source": [
        "## Lower, removing punctuation and stepwords"
      ]
    },
    {
      "cell_type": "code",
      "execution_count": null,
      "metadata": {
        "id": "GSVGIeVuBv5j"
      },
      "outputs": [],
      "source": [
        "stop_words = set(stopwords.words('english'))\n",
        "\n",
        "# Selecting columns\n",
        "text_columns = processed_df.select_dtypes(include='object').columns\n",
        "# Lower\n",
        "processed_df[text_columns] = processed_df[text_columns].apply(lambda x: x.str.lower() if x.dtype == 'O' else x)\n",
        "\n",
        "# Exclude fees from removing punctuation\n",
        "exclude_column = 'fees'\n",
        "\n",
        "# Applying clean function to all the valid columns except the excluded one\n",
        "processed_df[text_columns.difference([exclude_column])] = processed_df[text_columns.difference([exclude_column])].applymap(functions.clean)"
      ]
    },
    {
      "cell_type": "markdown",
      "metadata": {
        "id": "DYZbGFuc5aXs"
      },
      "source": [
        "we verify which element we're filtering to check and think if something else need to be considered. Checking buy some outuput of the stemmed words we see some additional punctuation we don't want to consider which was added within the clean function."
      ]
    },
    {
      "cell_type": "code",
      "execution_count": null,
      "metadata": {
        "id": "p6V3-MaBR9PL"
      },
      "outputs": [],
      "source": [
        "string.punctuation"
      ]
    },
    {
      "cell_type": "markdown",
      "metadata": {
        "id": "HQhAoC7k5y2n"
      },
      "source": [
        "We can know appreciate the differences of the two datasets (before and after preprocessing). Of our interesting will be the columns **fees** and **description**."
      ]
    },
    {
      "cell_type": "code",
      "execution_count": null,
      "metadata": {
        "id": "TDBzeYI7fm7v"
      },
      "outputs": [],
      "source": [
        "processed_df.head()"
      ]
    },
    {
      "cell_type": "markdown",
      "metadata": {
        "id": "IL2CMT6qp9nD"
      },
      "source": [
        "## [2.0.1]"
      ]
    },
    {
      "cell_type": "markdown",
      "metadata": {
        "id": "NUQTj_9-vijn"
      },
      "source": [
        " ## We want the field fees to collect numeric information\n"
      ]
    },
    {
      "cell_type": "markdown",
      "metadata": {
        "id": "cZ_Nj7mxvZ8W"
      },
      "source": [
        "We consider only *fees* column and deepen what we find"
      ]
    },
    {
      "cell_type": "code",
      "execution_count": null,
      "metadata": {
        "id": "3aLc44jqqfSF"
      },
      "outputs": [],
      "source": [
        "raw_fees= pd.DataFrame(processed_df['fees'])"
      ]
    },
    {
      "cell_type": "code",
      "source": [
        "raw_fees.head()"
      ],
      "metadata": {
        "id": "HC3erNU3qk7S"
      },
      "execution_count": null,
      "outputs": []
    },
    {
      "cell_type": "markdown",
      "metadata": {
        "id": "LkP-6djFvtXr"
      },
      "source": [
        "there are lot of missings data or more complex information we need to filter. To filter we follow the given guidline:\n",
        "\n",
        ">Really missing data (empty strings -122 of them), and something like this:\n",
        ">>please see the university website for further information on fees for this course.\n",
        "\n",
        "We decide to set this values to `none`\n"
      ]
    },
    {
      "cell_type": "code",
      "execution_count": null,
      "metadata": {
        "id": "Koh_CWT-6Kdg"
      },
      "outputs": [],
      "source": [
        "# Missing values for fees\n",
        "print(sum(raw_fees['fees'].isna()==True))"
      ]
    },
    {
      "cell_type": "markdown",
      "source": [
        "\n",
        "> in case of multiple information, retrieve only the highest fees. This suits perfectly the following example\n",
        ">>*'uk £13,000 total international £29,000 total',\n",
        "       '*"
      ],
      "metadata": {
        "id": "UQBNTZMCW473"
      }
    },
    {
      "cell_type": "markdown",
      "source": [
        "### Processing fees"
      ],
      "metadata": {
        "id": "DIbgKUAeXLI-"
      }
    },
    {
      "cell_type": "markdown",
      "source": [
        "Storing the rates in a file when needed to have an update versions of the rates."
      ],
      "metadata": {
        "id": "N1mW-Zwyaw0D"
      }
    },
    {
      "cell_type": "code",
      "source": [
        "# Your ExchangeRate-API key\n",
        "api_key = '40f223580924eaf7a1eb4ee0'\n",
        "\n",
        "# Fetch exchange rates from the API for all currencies against USD\n",
        "api_url = f'https://open.er-api.com/v6/latest/USD?apikey={api_key}'\n",
        "response = requests.get(api_url)\n",
        "data = response.json()\n",
        "exchange_rates = data['rates']\n",
        "\n",
        "# Define a mapping between currency symbols in your data and API symbols\n",
        "currency_symbol_mapping = {\n",
        "    '£': 'GBP',\n",
        "    '€': 'EUR',\n",
        "    '$': 'USD',\n",
        "    '¥': 'JPY',\n",
        "    'sek':'SEK', #swedish corona\n",
        "    'euro':'EUR',\n",
        "    'hkn' : 'HNK',\n",
        "    'euros': 'EUR',\n",
        "    'jpy': 'JPY',\n",
        "    'hkd':'HDK',\n",
        "    'isk':'ISK',\n",
        "    'hkd$': 'HKD',\n",
        "    'gbp£': 'GBP'\n",
        "}\n",
        "\n",
        "pattern = r'(?P<symbol_before>[£$€¥]|euros|eur|jpy|sek|euro|hkn|hkd|isk|hkd$|gbp£)?\\s*(?P<value>\\d{1,3}(?:,\\d{3})*)\\s*(?P<symbol_after>[£$€¥]|euros|jpy|sek|euro|hkn|hkd|isk|hkd$|gbp£)?'\n"
      ],
      "metadata": {
        "id": "KrEcW2znaYV_"
      },
      "execution_count": null,
      "outputs": []
    },
    {
      "cell_type": "markdown",
      "source": [
        "apply the function which convert into a target value all entries of fees column"
      ],
      "metadata": {
        "id": "bL5u8uDNbeR2"
      }
    },
    {
      "cell_type": "code",
      "source": [
        "text_columns = processed_df.select_dtypes(include='object').columns\n",
        "# Return the list of currency symbols and costs encountered in 'fees' field through CONVERT TO COMMON CURRENCY function\n",
        "raw_fees['fees (USD)'] = raw_fees['fees'].apply(lambda x: functions.return_cost(x) if x is not None else None)\n"
      ],
      "metadata": {
        "id": "wktHACHP2KJ1"
      },
      "execution_count": null,
      "outputs": []
    },
    {
      "cell_type": "markdown",
      "source": [
        "`original` information and `filtered fees`"
      ],
      "metadata": {
        "id": "1XNfYo5GbptM"
      }
    },
    {
      "cell_type": "code",
      "source": [
        "raw_fees.head()"
      ],
      "metadata": {
        "id": "pHK9k0oyGCzg"
      },
      "execution_count": null,
      "outputs": []
    },
    {
      "cell_type": "markdown",
      "metadata": {
        "id": "p-4w983Jnvcw"
      },
      "source": [
        "substituing and renaming the new column with the appropriate currance values"
      ]
    },
    {
      "cell_type": "code",
      "execution_count": null,
      "metadata": {
        "id": "480DVKNKmUvk"
      },
      "outputs": [],
      "source": [
        "processed_df['fees']= raw_fees['fees (USD)']\n",
        "processed_df.rename(columns={'fees': 'fees (USD)'}, inplace=True)\n"
      ]
    },
    {
      "cell_type": "code",
      "source": [
        "processed_df.head()"
      ],
      "metadata": {
        "id": "jmHnNlz7c5SE"
      },
      "execution_count": null,
      "outputs": []
    },
    {
      "cell_type": "markdown",
      "metadata": {
        "id": "HnQlc-g_F5JN"
      },
      "source": [
        "## [2.1] Conjunctive query"
      ]
    },
    {
      "cell_type": "markdown",
      "metadata": {
        "id": "AceZDNeYn8ld"
      },
      "source": [
        "## [2.1.1] Create your index!"
      ]
    },
    {
      "cell_type": "markdown",
      "metadata": {
        "id": "wfpGo3DsUlQD"
      },
      "source": [
        "### Create a file named vocabulary, in the format you prefer, that maps each word to an integer (id)."
      ]
    },
    {
      "cell_type": "markdown",
      "metadata": {
        "id": "9QN2akbkUlQE"
      },
      "source": [
        "#### First of all , let's tokenize the description to have all the words. The 'description' column in the DataFrame 'processed_df' will contain tokenized versions of the text data from the original 'description' column."
      ]
    },
    {
      "cell_type": "code",
      "execution_count": null,
      "metadata": {
        "id": "od-ZM0aAo4Sx"
      },
      "outputs": [],
      "source": [
        "processed_df['description']= processed_df.description.apply(lambda row: word_tokenize(row))\n",
        "processed_df.description.head()"
      ]
    },
    {
      "cell_type": "code",
      "execution_count": null,
      "metadata": {
        "id": "jyZOqlFWZq5n",
        "scrolled": true
      },
      "outputs": [],
      "source": [
        "vocabulary = set()\n",
        "processed_df.description.apply(lambda row: [vocabulary.add(word) for word in row])"
      ]
    },
    {
      "cell_type": "markdown",
      "metadata": {
        "id": "2aGupX7QUlQG"
      },
      "source": [
        "#### Now the set vocabulary contains all the words. In fact:"
      ]
    },
    {
      "cell_type": "code",
      "execution_count": null,
      "metadata": {
        "id": "ip2N7k5AbAU-"
      },
      "outputs": [],
      "source": [
        "vocabulary"
      ]
    },
    {
      "cell_type": "markdown",
      "metadata": {
        "id": "7kDa-R2yeAGl"
      },
      "source": [
        " #### Now we can assign unique ID to each term in the vocabulary. We create a df called vocabulary_df with 2 columns: Word and Id"
      ]
    },
    {
      "cell_type": "code",
      "execution_count": null,
      "metadata": {
        "id": "dcSXx8_rhQtp"
      },
      "outputs": [],
      "source": [
        "vocabulary_list = list(vocabulary)\n",
        "vocabulary_dict = {word: index for index, word in enumerate(vocabulary_list)}\n",
        "vocabulary_df=pd.DataFrame(list(vocabulary_dict.items()), columns=['Word', 'Id'])\n",
        "print(vocabulary_df.head())"
      ]
    },
    {
      "cell_type": "markdown",
      "metadata": {
        "id": "3Ce4bT7-m3am"
      },
      "source": [
        "#### Now we can save it , we choosed to save it both in a json and in a csv"
      ]
    },
    {
      "cell_type": "code",
      "execution_count": null,
      "metadata": {
        "id": "beDt9GmihQtq"
      },
      "outputs": [],
      "source": [
        "vocabulary_df.to_csv('vocabulary.csv', index=False, header=False)\n",
        "#remove header to keep the name of the columns"
      ]
    },
    {
      "cell_type": "code",
      "execution_count": null,
      "metadata": {
        "id": "3oAm_EaAntBo"
      },
      "outputs": [],
      "source": [
        "# Store in a json llike a pandas dataframe\n",
        "vocabulary_df.to_json('vocabulary.json', orient='records')"
      ]
    },
    {
      "cell_type": "code",
      "execution_count": null,
      "metadata": {
        "id": "KcpUJh8CxLx8"
      },
      "outputs": [],
      "source": [
        "# Write the dictionary to the JSON file directly\n",
        "with open('vocabulary.json', 'w') as jsonfile:\n",
        "    json.dump(vocabulary_dict, jsonfile)"
      ]
    },
    {
      "cell_type": "markdown",
      "metadata": {
        "id": "D-NFW5XUUlQJ"
      },
      "source": [
        "#### Now let's create another dataframe called 'vocabulary_reverse' which, in addition to the columns from 'vocabulary', includes an extra column named 'reverse', containing the list of documents where that word is present"
      ]
    },
    {
      "cell_type": "code",
      "execution_count": null,
      "metadata": {
        "id": "l743fce3hQtr"
      },
      "outputs": [],
      "source": [
        "vocabulary_reverse = vocabulary_df.copy()\n",
        "print(vocabulary_reverse.head())"
      ]
    },
    {
      "cell_type": "code",
      "execution_count": null,
      "metadata": {
        "id": "HaCe3PyehQts"
      },
      "outputs": [],
      "source": [
        "tqdm.pandas()\n",
        "vocabulary_reverse['reverse'] = vocabulary_reverse.Word.progress_apply(lambda item: list(processed_df.loc[processed_df.description.apply(lambda row: item in row)].index))"
      ]
    },
    {
      "cell_type": "code",
      "execution_count": null,
      "metadata": {
        "id": "sE9ZrhEZhQtu"
      },
      "outputs": [],
      "source": [
        "vocabulary_reverse.head()"
      ]
    },
    {
      "cell_type": "code",
      "execution_count": null,
      "metadata": {
        "id": "hGJTBBHsXn9l"
      },
      "outputs": [],
      "source": [
        "vocabulary_reverse[vocabulary_reverse['reverse'].apply(lambda x: len(x) == 0)]"
      ]
    },
    {
      "cell_type": "markdown",
      "metadata": {
        "id": "eBe7KbsmpBej"
      },
      "source": [
        "#### But Inverted Index has to be a dictionary so:"
      ]
    },
    {
      "cell_type": "code",
      "execution_count": null,
      "metadata": {
        "id": "rjLU4LvehQtv"
      },
      "outputs": [],
      "source": [
        "inverted_index = vocabulary_reverse.set_index('Id')['reverse'].to_dict()\n",
        "count = 0\n",
        "for key, value in inverted_index.items():\n",
        "    if count < 5:\n",
        "        print(f\"Key: {key}, Value: {value}\")\n",
        "        count += 1\n",
        "    else:\n",
        "        break"
      ]
    },
    {
      "cell_type": "markdown",
      "metadata": {
        "id": "7k8282I7UlQN"
      },
      "source": [
        "#### Since you do not want to compute the inverted index every time you use the Search Engine, it is worth thinking about storing it in a separate file and loading it in memory when needed."
      ]
    },
    {
      "cell_type": "code",
      "execution_count": null,
      "metadata": {
        "id": "3iI2cYA7hQtw"
      },
      "outputs": [],
      "source": [
        "with open('inverted_index.json', 'w') as file:\n",
        "    json.dump(inverted_index, file)"
      ]
    },
    {
      "cell_type": "markdown",
      "metadata": {
        "id": "hLafQMCsrdTc"
      },
      "source": [
        "## [2.1.2] Execute the query"
      ]
    },
    {
      "cell_type": "markdown",
      "source": [
        " We return documents which should contain all the words in the query"
      ],
      "metadata": {
        "id": "VhHOT0QCd1oi"
      }
    },
    {
      "cell_type": "markdown",
      "metadata": {
        "id": "fDNb23h0FhnD"
      },
      "source": [
        "#### Selecting only the rows we need to return as output"
      ]
    },
    {
      "cell_type": "code",
      "execution_count": null,
      "metadata": {
        "id": "irOhhwzhDHum"
      },
      "outputs": [],
      "source": [
        "df_query = df[['courseName','universityName','description','url']].copy()\n",
        "df_query.head()"
      ]
    },
    {
      "cell_type": "markdown",
      "metadata": {
        "id": "FvqeVw6MFpDL"
      },
      "source": [
        "#### extracting documents for a specific query using the function engine"
      ]
    },
    {
      "cell_type": "code",
      "execution_count": null,
      "metadata": {
        "id": "7AEkHVdH_vD2"
      },
      "outputs": [],
      "source": [
        "custom_functions.engine('advance knowledge')"
      ]
    },
    {
      "cell_type": "markdown",
      "metadata": {
        "id": "01hmKALBFYiv"
      },
      "source": [
        "## [2.2] Conjunctive query & Ranking score"
      ]
    },
    {
      "cell_type": "markdown",
      "metadata": {
        "id": "myjvidOlFYiw"
      },
      "source": [
        "## [2.2.1] Inverted index"
      ]
    },
    {
      "cell_type": "markdown",
      "metadata": {
        "id": "5ZVHIKaBUlQX"
      },
      "source": [
        "### For each word, you want the list of documents in which it is contained and the relative tfIdf score."
      ]
    },
    {
      "cell_type": "code",
      "execution_count": null,
      "metadata": {
        "id": "SStTuNPEFYiw"
      },
      "outputs": [],
      "source": [
        "from sklearn.feature_extraction.text import TfidfVectorizer"
      ]
    },
    {
      "cell_type": "markdown",
      "metadata": {
        "id": "is_NdjXqUlQY"
      },
      "source": [
        "#### The following code computes TF-IDF values for the text in the 'description' column and stores the TF-IDF matrix in the DataFrame tfidf_data, where each row corresponds to a document, each column corresponds to a word, and the values represent TF-IDF scores."
      ]
    },
    {
      "cell_type": "code",
      "execution_count": null,
      "metadata": {
        "id": "2lToP5AhFYiy"
      },
      "outputs": [],
      "source": [
        "tfidf = TfidfVectorizer(input='content', lowercase=False, tokenizer=lambda text: text) # , max_df=0.1\n",
        "results = tfidf.fit_transform(processed_df['description'])\n",
        "result_dense = results.todense()\n",
        "tfidf_data = pd.DataFrame(result_dense.tolist(), index=processed_df.index, columns=tfidf.get_feature_names_out())\n",
        "print(tfidf_data.head())"
      ]
    },
    {
      "cell_type": "markdown",
      "metadata": {
        "id": "TrFg_XdqFYi1"
      },
      "source": [
        "#### Creating a dictionary in the format Word:[(document1, tfIdf_{term,document1}), (document2, tfIdf_{term,document2})..."
      ]
    },
    {
      "cell_type": "code",
      "execution_count": null,
      "metadata": {
        "id": "VJDG1MJsFYi2"
      },
      "outputs": [],
      "source": [
        "inverted_index_2 = {}\n",
        "for word in tfidf_data.columns:\n",
        "    word_docs = tfidf_data.index[tfidf_data[word] > 0].tolist()\n",
        "    word_doc_scores = [(doc, tfidf_data.loc[doc, word]) for doc in word_docs]\n",
        "    inverted_index_2[word] = word_doc_scores\n",
        "count = 0\n",
        "for word, doc_scores in inverted_index_2.items():\n",
        "    print(f\"Word: {word}\")\n",
        "    print(\"Document Scores:\")\n",
        "    print(doc_scores)\n",
        "    count += 1\n",
        "    if count == 10:\n",
        "        break"
      ]
    },
    {
      "cell_type": "markdown",
      "metadata": {
        "id": "agz20AhLFYi3"
      },
      "source": [
        "#### But we need to have the word's ID as the key, not the word itself, we can take this ID from the vocabulary_df. We'll create a new dictionary that meets the requirements specified in the prompt."
      ]
    },
    {
      "cell_type": "code",
      "execution_count": null,
      "metadata": {
        "id": "H230VoRfFYi4"
      },
      "outputs": [],
      "source": [
        "new_inverted_index = {}\n",
        "for word, doc_scores in inverted_index_2.items():\n",
        "    word_id = vocabulary_df[vocabulary_df['Word'] == word]['Id'].values\n",
        "    if len(word_id) > 0:\n",
        "        word_id = word_id[0]\n",
        "        new_inverted_index[word_id] = doc_scores"
      ]
    },
    {
      "cell_type": "markdown",
      "metadata": {
        "id": "KYDDMJO-FYi4"
      },
      "source": [
        "#### Let's see the result"
      ]
    },
    {
      "cell_type": "code",
      "execution_count": null,
      "metadata": {
        "id": "lF5dNGH7FYi5"
      },
      "outputs": [],
      "source": [
        "n = 10\n",
        "partial_inverted_index = {k: new_inverted_index[k] for k in list(new_inverted_index.keys())[:n]}\n",
        "print(partial_inverted_index)"
      ]
    },
    {
      "cell_type": "markdown",
      "metadata": {
        "id": "bSkTojRMv-MZ"
      },
      "source": [
        "#### Compare document with cosine similarity"
      ]
    },
    {
      "cell_type": "markdown",
      "source": [
        "Given a query we will compare the query and evaluate the cosine similarity between th query and the extracted document through the engine function. We retrieve k = 10 documents: the first k ordered by cosine similarity."
      ],
      "metadata": {
        "id": "avn3ZkW2eW9e"
      }
    },
    {
      "cell_type": "code",
      "execution_count": null,
      "metadata": {
        "id": "Io6rF14Hw8m_"
      },
      "outputs": [],
      "source": [
        "df_query_processed= processed_df[['courseName','universityName','description','url']].copy()"
      ]
    },
    {
      "cell_type": "code",
      "execution_count": null,
      "metadata": {
        "id": "-MnOlc03xkQj"
      },
      "outputs": [],
      "source": [
        "df_query_processed.head()"
      ]
    },
    {
      "cell_type": "code",
      "execution_count": null,
      "metadata": {
        "id": "wPqlEd8UqKBA"
      },
      "outputs": [],
      "source": [
        "tfidf = TfidfVectorizer(input='content', lowercase=False, tokenizer=lambda text: text) # , max_df=0.1\n",
        "results = tfidf.fit_transform(df_query_processed['description'])\n",
        "result_dense = results.todense()\n",
        "tfidf_data = pd.DataFrame(result_dense.tolist(), index=df_query_processed.index, columns=tfidf.get_feature_names_out())"
      ]
    },
    {
      "cell_type": "markdown",
      "source": [
        "Copules of `EXAMPLES` were we leverage the function rank_documents to accomplished the mentioned task"
      ],
      "metadata": {
        "id": "CIVG5I1UfAAZ"
      }
    },
    {
      "cell_type": "code",
      "execution_count": null,
      "metadata": {
        "id": "Z-ZsQcftNStu"
      },
      "outputs": [],
      "source": [
        "functions.rank_documents(\"advanced knowledge\")"
      ]
    },
    {
      "cell_type": "code",
      "execution_count": null,
      "metadata": {
        "id": "-TBCmYP5YoTh"
      },
      "outputs": [],
      "source": [
        "functions.rank_documents(\"air pollution\")"
      ]
    },
    {
      "cell_type": "markdown",
      "metadata": {
        "id": "wE7epVwXTj_4"
      },
      "source": [
        "#[7] Algorithmic question"
      ]
    },
    {
      "cell_type": "markdown",
      "metadata": {
        "id": "Y67Mknt0WQko"
      },
      "source": [
        "The problem involves helping Leonardo create a fake report on the number of hours he worked each day for the past d days. Leonardo has the total sum of hours he worked, the number of days, and HR limitations for each day."
      ]
    },
    {
      "cell_type": "markdown",
      "metadata": {
        "id": "F0YNBOc6TKwx"
      },
      "source": [
        "## Implementation of the code"
      ]
    },
    {
      "cell_type": "code",
      "execution_count": null,
      "metadata": {
        "id": "t2rkY1o_TKw2",
        "outputId": "59390ace-fc47-4778-dc8f-9d11c5eb41ee"
      },
      "outputs": [
        {
          "name": "stdout",
          "output_type": "stream",
          "text": [
            "1 1\n",
            "2 3\n",
            "NO\n"
          ]
        }
      ],
      "source": [
        "# Input the total number of days and the total number of hours\n",
        "total_days, sum_hours = map(int, input().split())\n",
        "\n",
        "# Initialize a list to store the ranges of hours for each day\n",
        "day_min_max = []\n",
        "\n",
        "# Input the minimum and maximum hours for each day and create a list of ranges\n",
        "for _ in range(total_days):\n",
        "    min1, max1 = map(int, input().split())\n",
        "    day_min_max.append([i for i in range(min1, max1 + 1)])\n",
        "\n",
        "def find_combinations_with_sum(nested_list, target_sum):\n",
        "    \"\"\"\n",
        "    Having a nested list with the information of the overall amount of days and hour\n",
        "    worked and informationa bout mintime e maxtime for a single day, returns wether\n",
        "    it it possibile to return a fake report which respect costrains\n",
        "    \"\"\"\n",
        "    # Get the minimum and maximum hours for each day\n",
        "    min_hours = [day[0] for day in day_min_max]\n",
        "    max_hours = [day[-1] for day in day_min_max]\n",
        "\n",
        "    # Check if the total hours are within the valid range\n",
        "    if sum_hours >= sum(min_hours) and sum_hours <= sum(max_hours):\n",
        "        print('YES')\n",
        "    else:\n",
        "        print('NO')\n",
        "\n",
        "    # Iterate through all combinations of hours and print those with the target sum\n",
        "    for combination in product(*nested_list):\n",
        "        if sum(combination) == target_sum:\n",
        "            print(*combination)\n",
        "\n",
        "# Call the function with the provided day_min_max and sum_hours\n",
        "find_combinations_with_sum(day_min_max, sum_hours)\n"
      ]
    },
    {
      "cell_type": "markdown",
      "metadata": {
        "id": "e97ydKTvTKw6"
      },
      "source": [
        "\n",
        "## Let's combine the time complexity of individual parts to determine the overall time complexity of the provided code:\n"
      ]
    },
    {
      "cell_type": "markdown",
      "metadata": {
        "id": "j1Y0V4TmUm1F"
      },
      "source": [
        "\n",
        "Initializing min_hours and max_hours: O(total_days)\n",
        "* Checking total hours range: O(1)\n",
        "* Generating combinations: O(product of sizes of nested_list)\n",
        "* Overall, the dominant factor is the third part involving the generation of combinations. Therefore, the overall time complexity is O(product of sizes of nested_list)."
      ]
    },
    {
      "cell_type": "markdown",
      "metadata": {
        "id": "Pobl649kTKw7"
      },
      "source": [
        "#### example : if we have only two working days\n",
        "\n",
        "\n",
        "let's calculate the number of combinations generated by the product function for two days, each with a range of (max - min + 1) hours\n",
        "\n",
        "day1 = max_hour - min_hour + 1 = n1\n",
        "\n",
        "day2 = max_hour - min_hour + 1 = n2\n",
        "\n",
        "\n",
        "Complexity would be : O(n1 * n2 )"
      ]
    },
    {
      "cell_type": "markdown",
      "metadata": {
        "id": "6RdmS3gjTKw9"
      },
      "source": [
        "## ChatGpt Implementation\n"
      ]
    },
    {
      "cell_type": "markdown",
      "metadata": {
        "id": "XCO_BRj7Urud"
      },
      "source": [
        "\n",
        "both awsers are right but we think the complexity of the code that Chatgpt has been generated is better since it use backtracking algorithm which avoids generation all combination"
      ]
    },
    {
      "cell_type": "markdown",
      "metadata": {
        "id": "RFx_DJAyTKw_"
      },
      "source": [
        "##  **Optimality**:\n"
      ]
    },
    {
      "cell_type": "markdown",
      "metadata": {
        "id": "Y-ZkBW4cUuq4"
      },
      "source": [
        "The solution can be considered suboptimal in terms of time complexity, especially when the ranges for each day are large.\n",
        "It generates all combinations using itertools.product, which can be inefficient for large inputs.\n",
        "An improvement could be to use a backtracking algorithm that explores valid combinations more efficiently, terminating the search as soon as a valid combination is found."
      ]
    }
  ],
  "metadata": {
    "colab": {
      "provenance": [],
      "collapsed_sections": [
        "PTX8G7Hd3pvT",
        "HEFCTQVP3sDC",
        "Mr7JHzNuUlPQ",
        "UOXsKFODhQtK",
        "IG5db1Uuwx3l"
      ]
    },
    "kernelspec": {
      "display_name": "Python 3",
      "language": "python",
      "name": "python3"
    },
    "language_info": {
      "codemirror_mode": {
        "name": "ipython",
        "version": 3
      },
      "file_extension": ".py",
      "mimetype": "text/x-python",
      "name": "python",
      "nbconvert_exporter": "python",
      "pygments_lexer": "ipython3",
      "version": "3.8.3"
    }
  },
  "nbformat": 4,
  "nbformat_minor": 0
}